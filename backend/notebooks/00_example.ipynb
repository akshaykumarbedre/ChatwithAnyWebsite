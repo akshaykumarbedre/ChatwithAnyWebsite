{
 "cells": [
  {
   "cell_type": "markdown",
   "metadata": {},
   "source": [
    "# This is an example notebook\n",
    "\n",
    "Example Notebook"
   ]
  },
  {
   "cell_type": "code",
   "execution_count": 3,
   "metadata": {},
   "outputs": [],
   "source": [
    "from selenium import webdriver\n",
    "from selenium.webdriver.chrome.options import Options\n",
    "from selenium.webdriver.common.by import By\n",
    "from selenium.webdriver.support.ui import WebDriverWait\n",
    "from selenium.webdriver.support import expected_conditions as EC\n",
    "from urllib.parse import urljoin\n",
    "from typing import List\n",
    "import time\n",
    "\n",
    "def extract_nav_urls(homepage_url: str) -> List[str]:\n",
    "    \"\"\"\n",
    "    Extract all navigation URLs from a webpage's navigation elements using Selenium.\n",
    "    \n",
    "    Args:\n",
    "        homepage_url (str): The URL of the webpage to analyze\n",
    "        \n",
    "    Returns:\n",
    "        List[str]: List of absolute URLs found in navigation elements\n",
    "        \n",
    "    Raises:\n",
    "        WebDriverException: If there's an error with the browser automation\n",
    "        ValueError: If the URL is invalid\n",
    "    \"\"\"\n",
    "    # Set up Chrome options\n",
    "    chrome_options = Options()\n",
    "    chrome_options.add_argument('--headless')  # Run in headless mode\n",
    "    chrome_options.add_argument('--disable-gpu')\n",
    "    chrome_options.add_argument('--no-sandbox')\n",
    "    chrome_options.add_argument('--disable-dev-shm-usage')\n",
    "    chrome_options.add_argument('--window-size=1920,1080')\n",
    "    \n",
    "    # Add random user agent\n",
    "    chrome_options.add_argument('--user-agent=Mozilla/5.0 (Windows NT 10.0; Win64; x64) AppleWebKit/537.36 (KHTML, like Gecko) Chrome/120.0.0.0 Safari/537.36')\n",
    "\n",
    "    nav_urls = set()\n",
    "    driver = None\n",
    "    \n",
    "    try:\n",
    "        # Initialize the driver\n",
    "        driver = webdriver.Chrome(options=chrome_options)\n",
    "        \n",
    "        # Set page load timeout\n",
    "        driver.set_page_load_timeout(20)\n",
    "        \n",
    "        # Load the page\n",
    "        driver.get(homepage_url)\n",
    "        \n",
    "        # Wait for the page to load and nav elements to be present\n",
    "        wait = WebDriverWait(driver, 10)\n",
    "        wait.until(EC.presence_of_element_located((By.TAG_NAME, 'body')))\n",
    "        \n",
    "        # Add small delay to ensure dynamic content loads\n",
    "        time.sleep(2)\n",
    "        \n",
    "        # Find all navigation elements\n",
    "        nav_elements = driver.find_elements(By.CSS_SELECTOR, 'nav, header, [class*=\"nav\"], [class*=\"menu\"], [id*=\"nav\"], [id*=\"menu\"]')\n",
    "        \n",
    "        for nav in nav_elements:\n",
    "            # Find all links within navigation elements\n",
    "            links = nav.find_elements(By.TAG_NAME, 'a')\n",
    "            for link in links:\n",
    "                try:\n",
    "                    href = link.get_attribute('href')\n",
    "                    if href:\n",
    "                        # Convert relative URLs to absolute URLs\n",
    "                        absolute_url = urljoin(homepage_url, href)\n",
    "                        # Skip javascript links and anchor links\n",
    "                        if absolute_url.startswith('http') and '#' not in absolute_url:\n",
    "                            nav_urls.add(absolute_url)\n",
    "                except Exception:\n",
    "                    continue\n",
    "        \n",
    "        return list(nav_urls)\n",
    "    \n",
    "    except Exception as e:\n",
    "        raise Exception(f\"Error extracting navigation URLs: {str(e)}\")\n",
    "    \n",
    "    finally:\n",
    "        if driver:\n",
    "            driver.quit()"
   ]
  },
  {
   "cell_type": "code",
   "execution_count": 4,
   "metadata": {},
   "outputs": [],
   "source": [
    "result=extract_nav_urls(\"https://www.codewithharry.com\")"
   ]
  },
  {
   "cell_type": "code",
   "execution_count": 5,
   "metadata": {},
   "outputs": [
    {
     "data": {
      "text/plain": [
       "['https://www.codewithharry.com/shop/',\n",
       " 'https://www.codewithharry.com/refund/',\n",
       " 'https://www.codewithharry.com/',\n",
       " 'https://www.codewithharry.com/blog/',\n",
       " 'https://www.codewithharry.com/terms/',\n",
       " 'https://www.codewithharry.com/videos/',\n",
       " 'https://www.codewithharry.com/my-gear/',\n",
       " 'https://www.codewithharry.com/work/',\n",
       " 'https://www.codewithharry.com/notes/',\n",
       " 'https://www.codewithharry.com/tutorials/',\n",
       " 'https://www.codewithharry.com/contact/',\n",
       " 'https://www.codewithharry.com/privacy/']"
      ]
     },
     "execution_count": 5,
     "metadata": {},
     "output_type": "execute_result"
    }
   ],
   "source": [
    "result"
   ]
  },
  {
   "cell_type": "code",
   "execution_count": 6,
   "metadata": {},
   "outputs": [],
   "source": [
    "from pydantic import BaseModel, Field, AnyUrl\n",
    "from typing import List\n",
    "\n",
    "class UrlClassify(BaseModel):\n",
    "    \"classfication of url based on its type and usage\"\n",
    "    desc_urls: List[AnyUrl] = Field(\n",
    "        ..., \n",
    "        description=\"A list of URLs that provide descriptions, company info, blogs, or other non-product/service-related content.\",\n",
    "        example=[\"https://example.com/about-us\", \"https://example.com/contact\"]\n",
    "    )\n",
    "    product_service_urls: List[AnyUrl] = Field(\n",
    "        ..., \n",
    "        description=\"A list of URLs related to products or services offered by the business.\",\n",
    "        example=[\"https://example.com/shop\", \"https://example.com/service-web-development\"]\n",
    "    )\n"
   ]
  },
  {
   "cell_type": "code",
   "execution_count": null,
   "metadata": {},
   "outputs": [
    {
     "ename": "ImportError",
     "evalue": "cannot import name 'D' from 'langchain_core.documents.base' (c:\\Users\\AkshayKumarBM\\miniconda3\\Lib\\site-packages\\langchain_core\\documents\\base.py)",
     "output_type": "error",
     "traceback": [
      "\u001b[1;31m---------------------------------------------------------------------------\u001b[0m",
      "\u001b[1;31mImportError\u001b[0m                               Traceback (most recent call last)",
      "Cell \u001b[1;32mIn[107], line 7\u001b[0m\n\u001b[0;32m      5\u001b[0m \u001b[38;5;28;01mfrom\u001b[39;00m \u001b[38;5;21;01mlangchain\u001b[39;00m\u001b[38;5;21;01m.\u001b[39;00m\u001b[38;5;21;01membeddings\u001b[39;00m \u001b[38;5;28;01mimport\u001b[39;00m OpenAIEmbeddings\n\u001b[0;32m      6\u001b[0m \u001b[38;5;28;01mfrom\u001b[39;00m \u001b[38;5;21;01mlangchain\u001b[39;00m\u001b[38;5;21;01m.\u001b[39;00m\u001b[38;5;21;01mdocstore\u001b[39;00m\u001b[38;5;21;01m.\u001b[39;00m\u001b[38;5;21;01mdocument\u001b[39;00m \u001b[38;5;28;01mimport\u001b[39;00m Document\n\u001b[1;32m----> 7\u001b[0m \u001b[38;5;28;01mfrom\u001b[39;00m \u001b[38;5;21;01mlangchain_core\u001b[39;00m\u001b[38;5;21;01m.\u001b[39;00m\u001b[38;5;21;01mdocuments\u001b[39;00m\u001b[38;5;21;01m.\u001b[39;00m\u001b[38;5;21;01mbase\u001b[39;00m \u001b[38;5;28;01mimport\u001b[39;00m D\n\u001b[0;32m      8\u001b[0m \u001b[38;5;28;01mfrom\u001b[39;00m \u001b[38;5;21;01mlangchain_google_genai\u001b[39;00m \u001b[38;5;28;01mimport\u001b[39;00m GoogleGenerativeAIEmbeddings\n\u001b[0;32m      9\u001b[0m \u001b[38;5;28;01mfrom\u001b[39;00m \u001b[38;5;21;01mtyping\u001b[39;00m \u001b[38;5;28;01mimport\u001b[39;00m List\n",
      "\u001b[1;31mImportError\u001b[0m: cannot import name 'D' from 'langchain_core.documents.base' (c:\\Users\\AkshayKumarBM\\miniconda3\\Lib\\site-packages\\langchain_core\\documents\\base.py)"
     ]
    }
   ],
   "source": [
    "from langchain_google_genai import ChatGoogleGenerativeAI, GoogleGenerativeAIEmbeddings\n",
    "from langchain_core.messages import HumanMessage\n",
    "from dotenv import load_dotenv\n",
    "from langchain.vectorstores import FAISS\n",
    "from langchain.embeddings import OpenAIEmbeddings\n",
    "from langchain.docstore.document import Document\n",
    "from langchain_core.documents.base import Document\n",
    "from langchain_google_genai import GoogleGenerativeAIEmbeddings\n",
    "from typing import List\n",
    "\n",
    "\n",
    "\n",
    "print(load_dotenv())\n",
    "import os \n",
    "os.environ['GOOGLE_API_KEY']=os.getenv(\"GOOGLE_API_KEY\")\n",
    "model_name=os.getenv(\"MODEL\")\n",
    "\n",
    "llm=ChatGoogleGenerativeAI(model=model_name)\n",
    "# Create FAISS vectorstore for product information\n",
    "embeddings = GoogleGenerativeAIEmbeddings(model=\"models/text-embedding-004\")"
   ]
  },
  {
   "cell_type": "code",
   "execution_count": 8,
   "metadata": {},
   "outputs": [],
   "source": [
    "web_classfier=llm.with_structured_output(UrlClassify)"
   ]
  },
  {
   "cell_type": "code",
   "execution_count": 9,
   "metadata": {},
   "outputs": [],
   "source": [
    "result=web_classfier.invoke(\"['https://www.codewithharry.com/work/', 'https://www.codewithharry.com/contact/', 'https://www.codewithharry.com/my-gear/', 'https://www.codewithharry.com/refund/', 'https://www.codewithharry.com/blog/', 'https://www.codewithharry.com/tutorials/', 'https://www.codewithharry.com/shop/', 'https://www.codewithharry.com/privacy/', 'https://www.codewithharry.com/', 'https://www.codewithharry.com/notes/', 'https://www.codewithharry.com/terms/', 'https://www.codewithharry.com/videos/']\")"
   ]
  },
  {
   "cell_type": "code",
   "execution_count": 10,
   "metadata": {},
   "outputs": [
    {
     "data": {
      "text/plain": [
       "UrlClassify(desc_urls=[AnyUrl('https://www.codewithharry.com/work/'), AnyUrl('https://www.codewithharry.com/contact/'), AnyUrl('https://www.codewithharry.com/my-gear/'), AnyUrl('https://www.codewithharry.com/refund/'), AnyUrl('https://www.codewithharry.com/blog/'), AnyUrl('https://www.codewithharry.com/privacy/'), AnyUrl('https://www.codewithharry.com/'), AnyUrl('https://www.codewithharry.com/notes/'), AnyUrl('https://www.codewithharry.com/terms/')], product_service_urls=[AnyUrl('https://www.codewithharry.com/tutorials/'), AnyUrl('https://www.codewithharry.com/shop/'), AnyUrl('https://www.codewithharry.com/videos/')])"
      ]
     },
     "execution_count": 10,
     "metadata": {},
     "output_type": "execute_result"
    }
   ],
   "source": [
    "result"
   ]
  },
  {
   "cell_type": "code",
   "execution_count": 11,
   "metadata": {},
   "outputs": [],
   "source": [
    "from langchain_community.document_loaders import UnstructuredURLLoader"
   ]
  },
  {
   "cell_type": "code",
   "execution_count": 12,
   "metadata": {},
   "outputs": [
    {
     "data": {
      "text/plain": [
       "[Document(metadata={'source': AnyUrl('https://www.codewithharry.com/work/')}, page_content='</> CodeWithHarry\\n\\nMenu\\n\\nHome\\n\\nCourses\\n\\nTutorial\\n\\nBlog\\n\\nNotes\\n\\nContact\\n\\nMy Gear\\n\\nWork With Us\\n\\nHTML\\n\\nCSS\\n\\nJS\\n\\nC\\n\\nC++\\n\\nJAVA\\n\\nPYTHON\\n\\nPHP\\n\\nREACT JS\\n\\nHome\\n\\nCourses\\n\\nTutorial\\n\\nHTML\\n\\nCSS\\n\\nJS\\n\\nC\\n\\nC++\\n\\nJAVA\\n\\nPYTHON\\n\\nPHP\\n\\nREACT JS\\n\\nBlog\\n\\nNotes\\n\\nContact\\n\\nMy Gear\\n\\nWork With Us\\n\\nWe are hiring!\\n\\nWe are looking for freelance Developers, Subtitle writers, Content writers and Video editors. If you think you are fit for the role. Submit the form. Make sure you have a valid email so we can contact you back in case your application gets selected. Cheers!\\n\\nApply Now!\\n\\nWe will be in touch soon!\\n\\nCodeWithHarryManaged by CWH Solutions'),\n",
       " Document(metadata={'source': AnyUrl('https://www.codewithharry.com/contact/')}, page_content='</> CodeWithHarry\\n\\nMenu\\n\\nHome\\n\\nCourses\\n\\nTutorial\\n\\nBlog\\n\\nNotes\\n\\nContact\\n\\nMy Gear\\n\\nWork With Us\\n\\nHTML\\n\\nCSS\\n\\nJS\\n\\nC\\n\\nC++\\n\\nJAVA\\n\\nPYTHON\\n\\nPHP\\n\\nREACT JS\\n\\nHome\\n\\nCourses\\n\\nTutorial\\n\\nHTML\\n\\nCSS\\n\\nJS\\n\\nC\\n\\nC++\\n\\nJAVA\\n\\nPYTHON\\n\\nPHP\\n\\nREACT JS\\n\\nBlog\\n\\nNotes\\n\\nContact\\n\\nMy Gear\\n\\nWork With Us\\n\\nFeel free to contact me!\\n\\nCodeWithHarryManaged by CWH Solutions'),\n",
       " Document(metadata={'source': AnyUrl('https://www.codewithharry.com/my-gear/')}, page_content='</> CodeWithHarry\\n\\nMenu\\n\\nHome\\n\\nCourses\\n\\nTutorial\\n\\nBlog\\n\\nNotes\\n\\nContact\\n\\nMy Gear\\n\\nWork With Us\\n\\nHTML\\n\\nCSS\\n\\nJS\\n\\nC\\n\\nC++\\n\\nJAVA\\n\\nPYTHON\\n\\nPHP\\n\\nREACT JS\\n\\nHome\\n\\nCourses\\n\\nTutorial\\n\\nHTML\\n\\nCSS\\n\\nJS\\n\\nC\\n\\nC++\\n\\nJAVA\\n\\nPYTHON\\n\\nPHP\\n\\nREACT JS\\n\\nBlog\\n\\nNotes\\n\\nContact\\n\\nMy Gear\\n\\nWork With Us\\n\\n🛠MY GEAR🛠\\n\\nThis is what I use to create my content. I am not sponsored by any of these companies.\\n\\n🎥 Recording Equipments\\n\\nCanon EOS 80D\\n\\nI bought it back in 2018 for my US trip and have been using it since then. If you want to buy this in 2022, go for the EOS 90D (Same camera - Updated version). This is an amazing camera given that its still working exactly like it was working when I bought it. I use it for my YouTube tutorial videos as well. I use a USB cable, EOS utility software to make videos.\\n\\nView on Amazon\\n\\niPhone 13 Pro Max 256GB'),\n",
       " Document(metadata={'source': AnyUrl('https://www.codewithharry.com/my-gear/')}, page_content='View on Amazon\\n\\niPhone 13 Pro Max 256GB\\n\\nI have always dreamt of buying an iPhone for myself. Back in 2021, I finally bought my first ever iPhone and its been a great phone so far. I use it for my YouTube videos and also for my Instagram stories. I also use it to take photos for my YouTube thumbnails.\\n\\nView on Amazon\\n\\nLenovo 300 FHD Webcam\\n\\nSometimes I also use this Webcam to record videos. This has a great camera, and the microphone on this device is also good. This is a good webcam at its price.\\n\\nView on Amazon\\n\\nBlue Yeti\\n\\nThis is my main microphone, and I got this back in 2021. Before this, I used Snowball ICE to record the videos, but I wanted to upgrade, so I bought this microphone. I have used it for all of my videos since then. This microphone has a crisp audio quality and good noise suppression.\\n\\nView on Amazon\\n\\nBlue Snowball ICE'),\n",
       " Document(metadata={'source': AnyUrl('https://www.codewithharry.com/my-gear/')}, page_content=\"View on Amazon\\n\\nBlue Snowball ICE\\n\\nThis is my secondary microphone and I got this back in 2016 when I started YouTube. I used it for all of my videos back then. This has a crisp audio quality and good noise suppression. I still use this Microphone.\\n\\nView on Amazon\\n\\nBoya BY-M1\\n\\nThis is another mic I use for my videos. I got this when I was a little tight on my budget. This microphone is what I can say is value for money. This has good audio quality and its easy to setup. But soon I stopped using it and upgraded due to its limited battery backup.\\n\\nView on Amazon\\n\\nRode SmartLav+\\n\\nIt is a good lavalier condenser microphone, but it is a bit costly. I bought it as an upgrade to my Boya BY-M1. It is easy to setup, and sometimes I use it with my iPhone to record audio.\\n\\nView on Amazon\\n\\nApple iPad Pro with Apple M1 chip 2021\\n\\nI got this back on 2021. I bought it for taking notes and making videos. It is a good product altogether but I haven't used it much.\\n\\nView on Amazon\\n\\n🖥 PC Specs\"),\n",
       " Document(metadata={'source': AnyUrl('https://www.codewithharry.com/my-gear/')}, page_content='View on Amazon\\n\\n🖥 PC Specs\\n\\n2021 Apple MacBook Pro (14-inch)\\n\\nI purchased this in 2022 and this has been my primary laptop since then. Being a content creator this is one of my best decisions and, long story short, this laptop has never disappointed me.\\n\\nView on Amazon\\n\\nASUS ROG Strix G17 (2021)\\n\\nI purchased this in 2021 and this has been my primary laptop since then. I upgraded its RAM to 64GB (being a content creator) and, long story short, this laptop has never disappointed me.\\n\\nView on Amazon\\n\\nIntel Core i9-10900K\\n\\nThis is my main CPU. This beast is packed with 10 cores and 20 threads. It is a great CPU for those who want to do 4K encoding and video editing. I bought it in 2021 and it is still going strong.\\n\\nView on Amazon\\n\\nNvidia GeForce RTX 3070 8GB\\n\\nThis is my GPU. This beast is packed with 8GB of VRAM. I literally had to wait for 2 months to get this GPU back in 2021, when the GPU crisis was at its peak. I have no complaints regarding this GPU. It delivers what it promises.'),\n",
       " Document(metadata={'source': AnyUrl('https://www.codewithharry.com/my-gear/')}, page_content='View on Amazon\\n\\nXPG Adata GAMMIX D30 64GB (4x16GB)\\n\\nThis is my RAM. At first I had only 32GB of RAM, but then I upgraded it to 64GB. This RAM runs at 3600MHz, and it is a great RAM in terms of performance.\\n\\nView on Amazon\\n\\nMSI MPG Z490 Gaming Plus Motherboard\\n\\nThis is my motherboard. I bought it for my Beast PC build and it is still going strong. This motherboard has lots of USB ports and, on top of that, it has 2 M.2 NVME slots, which is great for those who want to install 2 SSDs.\\n\\nView on Amazon\\n\\nAntec HCG850 Power Supply\\n\\nThis is my main power supply. This is packed with 850W of power and it is 80 Plus Gold certified. This is a fully modular PSU with a 135mm fan. This power supply is great for those who want to build a high-end PC.\\n\\nView on Amazon\\n\\nWestern Digital WD SN550 1TB NVMe SSD'),\n",
       " Document(metadata={'source': AnyUrl('https://www.codewithharry.com/my-gear/')}, page_content=\"View on Amazon\\n\\nWestern Digital WD SN550 1TB NVMe SSD\\n\\nThis is my main Storage. This is one of the best SSDs out there. It's value for money, and also this SSD is blazing fast in terms of performance. I'm a gaming person and a programmer and I can say for sure that this SSD never disappoints.\\n\\nView on Amazon\\n\\nMontech X1 White Case\\n\\nIn terms of the case, this is a great looking case. I purchased it for its good looks and good airflow too. This case is packed with 4 x 120mm fans. So far, it is a great case, and I dont have any complaints.\\n\\nView on Amazon\\n\\nCooler Master MasterLiquid ML360L ARGB V2\\n\\nThis is my CPU cooler. This comes with 360mm radiator. In terms of cooling, this is a beast. It keeps my CPU cool even when I'm playing games. This is a great CPU cooler and I would recommend it to anyone who want to build a high end PC.\\n\\nView on Amazon\\n\\nTVS Gold Keyboard\"),\n",
       " Document(metadata={'source': AnyUrl('https://www.codewithharry.com/my-gear/')}, page_content='View on Amazon\\n\\nTVS Gold Keyboard\\n\\nThis keyboard is a bit old. Honestly, I use it more because of emotions than anything else. You can buy any other mechanical keyboard, but I use it because I have been using the same one for a very long time.\\n\\nView on Amazon\\n\\nZebronics Zeb-Transformer-M\\n\\nThis is a very nice affordable gaming mouse. At around 349 INR, it is a lot of value for money!\\n\\nView on Amazon\\n\\nWestern Digital WD 2TB Elements\\n\\nMy oldest storage device (Using it since 2018) which is still working and has not yet disappointed me!\\n\\nView on Amazon\\n\\n🛋 Ergonomics\\n\\nMonarch Elevate Height Adjustable Table\\n\\nWhen you are working for hours, it is recommended that you use a standing desk. I love switching between standing and sitting positions while I am working for long hours on my projects. Sitting for a long time is not good for your knees, for your spine, and for your overall posture too.\\n\\nView on Amazon\\n\\nGreen Soul Beast Racing Edition Ergonomic Gaming Chair'),\n",
       " Document(metadata={'source': AnyUrl('https://www.codewithharry.com/my-gear/')}, page_content='View on Amazon\\n\\nGreen Soul Beast Racing Edition Ergonomic Gaming Chair\\n\\nBuying this was one of the best decisions. It feels amazing and very comfortable. If you can afford it you can go for it!\\n\\nView on Amazon\\n\\nGreen soul stool\\n\\nThis helps when I code for long hours. This is for resting your legs while you are sitting on a chair for hours. It really helps when my leg sprains.\\n\\nView on Amazon\\n\\nCodeWithHarryManaged by CWH Solutions'),\n",
       " Document(metadata={'source': AnyUrl('https://www.codewithharry.com/refund/')}, page_content='</> CodeWithHarry\\n\\nMenu\\n\\nHome\\n\\nCourses\\n\\nTutorial\\n\\nBlog\\n\\nNotes\\n\\nContact\\n\\nMy Gear\\n\\nWork With Us\\n\\nHTML\\n\\nCSS\\n\\nJS\\n\\nC\\n\\nC++\\n\\nJAVA\\n\\nPYTHON\\n\\nPHP\\n\\nREACT JS\\n\\nHome\\n\\nCourses\\n\\nTutorial\\n\\nHTML\\n\\nCSS\\n\\nJS\\n\\nC\\n\\nC++\\n\\nJAVA\\n\\nPYTHON\\n\\nPHP\\n\\nREACT JS\\n\\nBlog\\n\\nNotes\\n\\nContact\\n\\nMy Gear\\n\\nWork With Us\\n\\nRefund Policy\\n\\nEffective Date: January, 2025\\n\\n1. Overview\\n\\nAt CodeWithHarry, we are committed to providing quality educational content. However, we understand that there may be situations where you require a refund for your purchase. This policy outlines the terms and conditions for requesting a refund.\\n\\n2. Eligibility for Refunds\\n\\nRefunds are applicable under the following conditions:\\n\\nYou were unable to access the purchased course or notes due to a technical issue on our platform.\\n\\nThe purchased content was not delivered as described at the time of purchase.\\n\\nRefunds are not applicable if:\\n\\nYou changed your mind after accessing the content.\\n\\nYou violated our Terms and Conditions.'),\n",
       " Document(metadata={'source': AnyUrl('https://www.codewithharry.com/refund/')}, page_content='You changed your mind after accessing the content.\\n\\nYou violated our Terms and Conditions.\\n\\nYou completed or downloaded a significant portion of the course or notes.\\n\\n3. Refund Request Process\\n\\nTo request a refund, please follow these steps:\\n\\nEmail us at [email protected] with the subject line \"Refund Request.\"\\n\\nInclude the following details in your email:\\n\\nYour name and registered email address.\\n\\nThe course or notes you purchased.\\n\\nThe reason for your refund request, with supporting evidence if applicable.\\n\\nOur team will review your request within 7 business days and inform you of the decision via email.\\n\\n4. Refund Method\\n\\nApproved refunds will be processed back to the original payment method used for the purchase. Please note that it may take 5-10 business days for the refund to reflect in your account, depending on your payment provider.\\n\\n5. Non-Refundable Items\\n\\nThe following items are non-refundable:\\n\\nBundles or promotional offers.\\n\\nMembership or subscription fees.'),\n",
       " Document(metadata={'source': AnyUrl('https://www.codewithharry.com/refund/')}, page_content='Bundles or promotional offers.\\n\\nMembership or subscription fees.\\n\\nCourses or notes marked as \"non-refundable\" at the time of purchase.\\n\\n6. Contact Us\\n\\nIf you have any questions or concerns about our refund policy, please contact us at:\\n\\nEmail: [email protected] Support Hours: Monday to Friday, 9:00 AM to 6:00 PM (IST) Address: CWH Solutions, 94, Ghair Saifuddin Domehla Road, Rampur, Uttar Pradesh, 244901 Phone: 7078073838\\n\\nCodeWithHarryManaged by CWH Solutions'),\n",
       " Document(metadata={'source': AnyUrl('https://www.codewithharry.com/blog/')}, page_content='</> CodeWithHarry\\n\\nMenu\\n\\nHome\\n\\nCourses\\n\\nTutorial\\n\\nBlog\\n\\nNotes\\n\\nContact\\n\\nMy Gear\\n\\nWork With Us\\n\\nHTML\\n\\nCSS\\n\\nJS\\n\\nC\\n\\nC++\\n\\nJAVA\\n\\nPYTHON\\n\\nPHP\\n\\nREACT JS\\n\\nHome\\n\\nCourses\\n\\nTutorial\\n\\nHTML\\n\\nCSS\\n\\nJS\\n\\nC\\n\\nC++\\n\\nJAVA\\n\\nPYTHON\\n\\nPHP\\n\\nREACT JS\\n\\nBlog\\n\\nNotes\\n\\nContact\\n\\nMy Gear\\n\\nWork With Us\\n\\nCodeWithHarryManaged by CWH Solutions'),\n",
       " Document(metadata={'source': AnyUrl('https://www.codewithharry.com/privacy/')}, page_content='</> CodeWithHarry\\n\\nMenu\\n\\nHome\\n\\nCourses\\n\\nTutorial\\n\\nBlog\\n\\nNotes\\n\\nContact\\n\\nMy Gear\\n\\nWork With Us\\n\\nHTML\\n\\nCSS\\n\\nJS\\n\\nC\\n\\nC++\\n\\nJAVA\\n\\nPYTHON\\n\\nPHP\\n\\nREACT JS\\n\\nHome\\n\\nCourses\\n\\nTutorial\\n\\nHTML\\n\\nCSS\\n\\nJS\\n\\nC\\n\\nC++\\n\\nJAVA\\n\\nPYTHON\\n\\nPHP\\n\\nREACT JS\\n\\nBlog\\n\\nNotes\\n\\nContact\\n\\nMy Gear\\n\\nWork With Us\\n\\nPrivacy Policy for CodeWithHarry\\n\\nLast updated: January, 2025\\n\\n1. Personal Information We Collect\\n\\nWhen you register on our site, purchase courses or notes, or engage with other features of our website, we may collect the following personal information:\\n\\nName\\n\\nEmail address\\n\\nPayment information\\n\\nDevice and browser details\\n\\nUsage data, such as pages visited and content accessed\\n\\n2. Use of Your Information\\n\\nWe use the information collected from you for the following purposes:\\n\\nTo provide and deliver the courses or notes you purchase\\n\\nTo improve the quality of our educational content\\n\\nTo send updates, announcements, or promotional materials\\n\\nTo process payments and manage orders\\n\\nTo provide customer support'),\n",
       " Document(metadata={'source': AnyUrl('https://www.codewithharry.com/privacy/')}, page_content='To process payments and manage orders\\n\\nTo provide customer support\\n\\nTo personalize your learning experience\\n\\n3. Cookies and Tracking Technologies\\n\\nWe use cookies to improve your browsing experience and provide personalized content. You can disable cookies in your browser settings, but some features of our site may not function properly.\\n\\n4. Sharing Your Information\\n\\nWe do not sell, trade, or rent your personal information. However, we may share your information with trusted service providers who assist us in operating our website, such as payment processors or email service providers.\\n\\n5. Third-party Links\\n\\nOur website may contain links to third-party websites. We are not responsible for the content or privacy practices of these external sites. For details, please refer to their respective privacy policies.\\n\\n6. Protecting Your Data\\n\\nWe implement reasonable security measures to protect your personal information. However, no method of transmission over the Internet is 100% secure.'),\n",
       " Document(metadata={'source': AnyUrl('https://www.codewithharry.com/privacy/')}, page_content='7. Your Rights\\n\\nYou have the right to access, update, or delete your personal information. To exercise these rights, please contact us at the email address below.\\n\\n8. Changes to This Policy\\n\\nWe may update this Privacy Policy from time to time. We encourage you to review this page periodically for updates.\\n\\n9. Contact Us\\n\\nIf you have any questions or concerns about this Privacy Policy, please contact us:\\n\\nEmail: [email protected] Support Hours: Monday to Friday, 9:00 AM to 6:00 PM (IST) Address: CWH Solutions, 94, Ghair Saifuddin Domehla Road, Rampur, Uttar Pradesh, 244901 Phone: 7078073838\\n\\nCodeWithHarryManaged by CWH Solutions'),\n",
       " Document(metadata={'source': AnyUrl('https://www.codewithharry.com/')}, page_content=\"</> CodeWithHarry\\n\\nMenu\\n\\nHome\\n\\nCourses\\n\\nTutorial\\n\\nBlog\\n\\nNotes\\n\\nContact\\n\\nMy Gear\\n\\nWork With Us\\n\\nHTML\\n\\nCSS\\n\\nJS\\n\\nC\\n\\nC++\\n\\nJAVA\\n\\nPYTHON\\n\\nPHP\\n\\nREACT JS\\n\\nHome\\n\\nCourses\\n\\nTutorial\\n\\nHTML\\n\\nCSS\\n\\nJS\\n\\nC\\n\\nC++\\n\\nJAVA\\n\\nPYTHON\\n\\nPHP\\n\\nREACT JS\\n\\nBlog\\n\\nNotes\\n\\nContact\\n\\nMy Gear\\n\\nWork With Us\\n\\nWelcome to\\n\\nLearn\\n\\nConfused on which course to take? I have got you covered. Browse courses and find out the best course for you. Its free! Code With Harry is my attempt to teach basics and those coding techniques to people in short time which took me ages to learn.\\n\\nRecommended Courses\\n\\nFREE COURSE\\n\\nPython Tutorials - 100 Days of Code\\n\\nPython is one of the most demanded programming languages in the job market. Surprisingly, it is equally easy to learn and master Python. Let's commit our 100 days of code to python!\\n\\nStart Watching\\n\\nFREE COURSE\\n\\nUltimate JavaScript Course\"),\n",
       " Document(metadata={'source': AnyUrl('https://www.codewithharry.com/')}, page_content=\"Start Watching\\n\\nFREE COURSE\\n\\nUltimate JavaScript Course\\n\\nThis latest JavaScript course comes with premium curriculum that covers everything from basics to advance. On top of that, you will get my handwritten notes of JS for completely free. What are you waiting for? Just Enroll Buddy\\n\\nStart Watching\\n\\nFREE COURSE\\n\\nReact JS Tutorials For Beginners\\n\\nReact is a free and open-source front-end JavaScript library. This series will cover React from starting to the end. We will learn react from the ground up!\\n\\nStart Watching\\n\\nTestimonials\\n\\nI don't have words to thank this man, I'm really grateful to have this channel and website in my daily routine. If you're a mere beginner, then you can trust this guy and can put your time into his content. I can assure you that it'll be worth it.\\n\\nMohit KumarWeb Developer\"),\n",
       " Document(metadata={'source': AnyUrl('https://www.codewithharry.com/')}, page_content='Mohit KumarWeb Developer\\n\\nFor everyone who wants to level up their #Coding and #Dev skills - seriously, this channel is for you! Both basic and advanced stacks are covered on this channel, and one can learn according to his skill levels. And the icing on the cake is, everything is available for free.\\n\\nRakesh ShettyWeb Developer\\n\\nCodeWithHarryManaged by CWH Solutions'),\n",
       " Document(metadata={'source': AnyUrl('https://www.codewithharry.com/notes/')}, page_content='</> CodeWithHarry\\n\\nMenu\\n\\nHome\\n\\nCourses\\n\\nTutorial\\n\\nBlog\\n\\nNotes\\n\\nContact\\n\\nMy Gear\\n\\nWork With Us\\n\\nHTML\\n\\nCSS\\n\\nJS\\n\\nC\\n\\nC++\\n\\nJAVA\\n\\nPYTHON\\n\\nPHP\\n\\nREACT JS\\n\\nHome\\n\\nCourses\\n\\nTutorial\\n\\nHTML\\n\\nCSS\\n\\nJS\\n\\nC\\n\\nC++\\n\\nJAVA\\n\\nPYTHON\\n\\nPHP\\n\\nREACT JS\\n\\nBlog\\n\\nNotes\\n\\nContact\\n\\nMy Gear\\n\\nWork With Us\\n\\nDownload Notes by CodeWithHarry\\n\\nPython Notes\\n\\nDownload Notes Here\\n\\nC Notes\\n\\nDownload Notes Here\\n\\nAndroid Notes\\n\\nDownload Notes Here\\n\\nJava Notes\\n\\nDownload Notes Here\\n\\nHTML Notes\\n\\nDownload Notes Here\\n\\nCSS Notes\\n\\nDownload Notes Here\\n\\nDSA Notes\\n\\nNotes in progress\\n\\nJavascript Notes\\n\\nDownload Notes Here\\n\\nDownload Cheatsheets by CodeWithHarry\\n\\nPython CheatSheet\\n\\nDownload Cheatsheet Here\\n\\nC CheatSheet\\n\\nDownload CheatSheet Here\\n\\nC++ Cheatsheet\\n\\nDownload Cheatsheet Here\\n\\nJava CheatSheet\\n\\nDownload CheatSheet Here\\n\\nHTML Cheatsheet\\n\\nDownload CheatSheet Here\\n\\nCSS Cheatsheet\\n\\nDownload Cheatsheet Here\\n\\nFlask Cheatsheet\\n\\nDownload Cheatsheet Here\\n\\nJavascript Cheatsheet\\n\\nDownload Cheatsheet Here\\n\\nPHP Cheatsheet\\n\\nDownload Cheatsheet Here'),\n",
       " Document(metadata={'source': AnyUrl('https://www.codewithharry.com/notes/')}, page_content='Javascript Cheatsheet\\n\\nDownload Cheatsheet Here\\n\\nPHP Cheatsheet\\n\\nDownload Cheatsheet Here\\n\\nMySQL Cheatsheet\\n\\nDownload Cheatsheet Here\\n\\nDjango Cheatsheet\\n\\nDownload Cheatsheet Here\\n\\nDownload Handbooks by CodeWithHarry\\n\\nPython Handbook\\n\\nDownload Handbook Here\\n\\nC Handbook\\n\\nDownload Handbook Here\\n\\nHTML Handbook\\n\\nDownload Handbook Here\\n\\nCodeWithHarryManaged by CWH Solutions'),\n",
       " Document(metadata={'source': AnyUrl('https://www.codewithharry.com/terms/')}, page_content=\"</> CodeWithHarry\\n\\nMenu\\n\\nHome\\n\\nCourses\\n\\nTutorial\\n\\nBlog\\n\\nNotes\\n\\nContact\\n\\nMy Gear\\n\\nWork With Us\\n\\nHTML\\n\\nCSS\\n\\nJS\\n\\nC\\n\\nC++\\n\\nJAVA\\n\\nPYTHON\\n\\nPHP\\n\\nREACT JS\\n\\nHome\\n\\nCourses\\n\\nTutorial\\n\\nHTML\\n\\nCSS\\n\\nJS\\n\\nC\\n\\nC++\\n\\nJAVA\\n\\nPYTHON\\n\\nPHP\\n\\nREACT JS\\n\\nBlog\\n\\nNotes\\n\\nContact\\n\\nMy Gear\\n\\nWork With Us\\n\\nTerms and Conditions\\n\\nLast updated: January, 2025\\n\\n1. Acceptance of Terms\\n\\nBy accessing or using the CodeWithHarry website ('Website') and purchasing courses, notes, or other materials, you agree to comply with and be bound by these Terms and Conditions. If you do not agree with these terms, please do not use our Website.\\n\\n2. Use of Content\\n\\nAll content, including courses, notes, videos, text, images, and other materials available on CodeWithHarry, is for personal and non-commercial use only. You are prohibited from reproducing, distributing, or reselling any content without prior written permission.\\n\\n3. Account Responsibility\"),\n",
       " Document(metadata={'source': AnyUrl('https://www.codewithharry.com/terms/')}, page_content=\"3. Account Responsibility\\n\\nWhen you create an account on our Website, you are responsible for maintaining the confidentiality of your account and password. You agree to accept responsibility for all activities that occur under your account.\\n\\n4. Payments and Refunds\\n\\nAll payments for courses and notes must be made in full at the time of purchase.\\n\\nRefunds are only applicable in cases where a technical issue prevents access to the purchased content. Refund requests must be made within 7 days of purchase.\\n\\n5. Intellectual Property\\n\\nThe content on CodeWithHarry, including but not limited to courses, videos, and notes, is protected by copyright, trademark, and other intellectual property laws. You may not use, copy, modify, or distribute any of our materials without explicit authorization.\\n\\n6. Prohibited Activities\\n\\nYou agree not to:\\n\\nUse the Website for any illegal or unauthorized purpose\\n\\nDisrupt or interfere with the Website's functionality\"),\n",
       " Document(metadata={'source': AnyUrl('https://www.codewithharry.com/terms/')}, page_content=\"Disrupt or interfere with the Website's functionality\\n\\nAttempt to gain unauthorized access to the Website or its systems\\n\\nShare your account login details with others\\n\\n7. Termination of Access\\n\\nWe reserve the right to terminate or suspend your access to the Website at our sole discretion, without prior notice, if you violate these Terms and Conditions.\\n\\n8. Disclaimer of Warranties\\n\\nAll courses, notes, and content provided on CodeWithHarry are offered 'as is' without any guarantees or warranties. We do not warrant that the content is accurate, complete, or error-free.\\n\\n9. Limitation of Liability\\n\\nCodeWithHarry shall not be held liable for any direct, indirect, incidental, or consequential damages arising from the use of our Website or content, including but not limited to loss of data, profits, or business opportunities.\\n\\n10. Changes to Terms\"),\n",
       " Document(metadata={'source': AnyUrl('https://www.codewithharry.com/terms/')}, page_content='10. Changes to Terms\\n\\nWe reserve the right to modify these Terms and Conditions at any time. Updated terms will be posted on this page, and your continued use of the Website signifies your acceptance of any changes.\\n\\n11. Contact Us\\n\\nIf you have any questions about these Terms and Conditions, please contact us:\\n\\nEmail: [email protected] Support Hours: Monday to Friday, 9:00 AM to 6:00 PM (IST) Address: CWH Solutions, 94, Ghair Saifuddin Domehla Road, Rampur, Uttar Pradesh, 244901 Phone: 7078073838\\n\\nCodeWithHarryManaged by CWH Solutions')]"
      ]
     },
     "execution_count": 12,
     "metadata": {},
     "output_type": "execute_result"
    }
   ],
   "source": [
    "from langchain_text_splitters import RecursiveCharacterTextSplitter\n",
    "desc_loader=UnstructuredURLLoader(urls=result.desc_urls)\n",
    "Desc_data=desc_loader.load()\n",
    "\n",
    "spitter=RecursiveCharacterTextSplitter(chunk_size=1000, chunk_overlap=100)\n",
    "Final_Desc_data=spitter.split_documents(Desc_data)\n",
    "Final_Desc_data\n"
   ]
  },
  {
   "cell_type": "code",
   "execution_count": 13,
   "metadata": {},
   "outputs": [
    {
     "data": {
      "text/plain": [
       "[Document(metadata={'source': AnyUrl('https://www.codewithharry.com/tutorials/')}, page_content='</> CodeWithHarry\\n\\nMenu\\n\\nHome\\n\\nCourses\\n\\nTutorial\\n\\nBlog\\n\\nNotes\\n\\nContact\\n\\nMy Gear\\n\\nWork With Us\\n\\nHTML\\n\\nCSS\\n\\nJS\\n\\nC\\n\\nC++\\n\\nJAVA\\n\\nPYTHON\\n\\nPHP\\n\\nREACT JS\\n\\nHome\\n\\nCourses\\n\\nTutorial\\n\\nHTML\\n\\nCSS\\n\\nJS\\n\\nC\\n\\nC++\\n\\nJAVA\\n\\nPYTHON\\n\\nPHP\\n\\nREACT JS\\n\\nBlog\\n\\nNotes\\n\\nContact\\n\\nMy Gear\\n\\nWork With Us\\n\\nTutorials\\n\\nPython Tutorial\\n\\nC Tutorial\\n\\nC++ Tutorial\\n\\nJava Tutorial\\n\\nHTML Tutorial\\n\\nCSS Tutorial\\n\\nJavaScript Tutorial\\n\\nPHP Tutorial\\n\\nReact JS Tutorial\\n\\nCodeWithHarryManaged by CWH Solutions'),\n",
       " Document(metadata={'source': AnyUrl('https://www.codewithharry.com/shop/')}, page_content='</> CodeWithHarry\\n\\nMenu\\n\\nHome\\n\\nCourses\\n\\nTutorial\\n\\nBlog\\n\\nNotes\\n\\nContact\\n\\nMy Gear\\n\\nWork With Us\\n\\nHTML\\n\\nCSS\\n\\nJS\\n\\nC\\n\\nC++\\n\\nJAVA\\n\\nPYTHON\\n\\nPHP\\n\\nREACT JS\\n\\nHome\\n\\nCourses\\n\\nTutorial\\n\\nHTML\\n\\nCSS\\n\\nJS\\n\\nC\\n\\nC++\\n\\nJAVA\\n\\nPYTHON\\n\\nPHP\\n\\nREACT JS\\n\\nBlog\\n\\nNotes\\n\\nContact\\n\\nMy Gear\\n\\nWork With Us\\n\\nShop Handwritten Notes\\n\\nExplore our collection of handwritten notes on various programming topics. Whether you are starting with the basics or diving into advanced concepts, these notes will help you master your coding skills. Browse through the offerings below and get your notes today!\\n\\nHandwritten C Notes\\n\\nPrice: ₹99\\n\\nMaster C programming with these handwritten notes, covering fundamentals, loops, arrays, and more.\\n\\nHandwritten C++ Notes\\n\\nPrice: ₹99\\n\\nLearn advanced C++ concepts with these detailed handwritten notes, covering classes, inheritance, and polymorphism.\\n\\nHandwritten HTML Notes\\n\\nPrice: ₹99\\n\\nUnderstand HTML fundamentals with these handwritten notes, covering tags, elements, and attributes.\\n\\nCSS Ebook\\n\\nPrice: ₹99\\n\\nExplore CSS basics and advanced concepts like flexbox, grid, and animations with this Ebook.\\n\\nHandwritten JavaScript Notes\\n\\nPrice: ₹99\\n\\nMaster JavaScript with these handwritten notes, covering variables, functions, loops, and ES6+ features.\\n\\nCustom Error Solving!\\n\\nPrice: ₹99999\\n\\nWe will solve your custom errors and provide you with a summary of the solution.\\n\\nSigma Web Development Course\\n\\nPrice: ₹6000\\n\\nDetails for the course will be sent to your email. You will get a certificate after completion.\\n\\nCodeWithHarryManaged by CWH Solutions'),\n",
       " Document(metadata={'source': AnyUrl('https://www.codewithharry.com/videos/')}, page_content=\"</> CodeWithHarry\\n\\nMenu\\n\\nHome\\n\\nCourses\\n\\nTutorial\\n\\nBlog\\n\\nNotes\\n\\nContact\\n\\nMy Gear\\n\\nWork With Us\\n\\nHTML\\n\\nCSS\\n\\nJS\\n\\nC\\n\\nC++\\n\\nJAVA\\n\\nPYTHON\\n\\nPHP\\n\\nREACT JS\\n\\nHome\\n\\nCourses\\n\\nTutorial\\n\\nHTML\\n\\nCSS\\n\\nJS\\n\\nC\\n\\nC++\\n\\nJAVA\\n\\nPYTHON\\n\\nPHP\\n\\nREACT JS\\n\\nBlog\\n\\nNotes\\n\\nContact\\n\\nMy Gear\\n\\nWork With Us\\n\\nPremium Courses\\n\\nFREE COURSE\\n\\nUltimate JavaScript Course\\n\\nThis latest JavaScript course comes with premium curriculum that covers everything from basics to advance. On top of that, you will get my handwritten notes of JS for completely free. What are you waiting for? Just Enroll Buddy\\n\\nStart Watching\\n\\nFREE COURSE\\n\\nSanity.io Tutorials in Hindi\\n\\nSanity.io is the platform for structured content. This course will not only cover Sanity from starting to the end, but it has projects for hands-on experience.\\n\\nStart Watching\\n\\nFREE COURSE\\n\\nStrapi Tutorial For Beginners\\n\\nThis course contains everything that you should know about Strapi. It is an open-source, Headless CMS that saves lot of time for developers by giving them freedom to use their favorite tools and frameworks.\\n\\nStart Watching\\n\\nFREE COURSE\\n\\nPython Tutorials - 100 Days of Code\\n\\nPython is one of the most demanded programming languages in the job market. Surprisingly, it is equally easy to learn and master Python. Let's commit our 100 days of code to python!\\n\\nStart Watching\\n\\nFREE COURSE\\n\\nTailwind Course In Hindi\\n\\nComplete Tailwind CSS Course by CodeWithHarry in Hindi - Learn Tailwind CSS from scratch for free!\\n\\nStart Watching\\n\\nFREE COURSE\\n\\nReact Js Tutorials For Beginners\\n\\nReact is a free and open-source front-end JavaScript library. This series will cover React from starting to the end. We will learn react from the ground up!\\n\\nStart Watching\\n\\nFREE COURSE\\n\\nNext.js Tutorials For Beginners\\n\\nComplete Next.js Course by CodeWithHarry in Hindi - Learn Next.js from Scratch.\\n\\nStart Watching\\n\\nMore Courses\\n\\nFREE COURSE\\n\\nGeneral Python Errors\"),\n",
       " Document(metadata={'source': AnyUrl('https://www.codewithharry.com/videos/')}, page_content=\"Start Watching\\n\\nMore Courses\\n\\nFREE COURSE\\n\\nGeneral Python Errors\\n\\nBeing a coder, I can understand the pain and excitement while finding a bug or error in a code. This course contains some of the most famous or common errors in the Python language.\\n\\nStart Watching\\n\\nFREE COURSE\\n\\nC Language Practice Programs\\n\\nThis series contains programs for you to practice C Programming and related concepts. It has videos that will provide you with a proper explanation of the program and its logic.\\n\\nStart Watching\\n\\nFREE COURSE\\n\\nPython Game Development Tuts\\n\\nIf you're interested in game development, this course is for you. It will lead you through all the basic game development concepts and will give you an initial boost.\\n\\nStart Watching\\n\\nFREE COURSE\\n\\nOOPS Using Python Programming\\n\\nIf you don't know about Object Oriented Programming (OOP) Paradigm, then this course is for you. In this you'll learn about objects, classes and much more in Python language.\\n\\nStart Watching\\n\\nFREE COURSE\\n\\nBasic Python Programs With Code\\n\\nThis series contains basic Python programs. It's a concise and precise course, so if you have a couple of minutes or an hour, just get started. This course will surely add some value.\\n\\nStart Watching\\n\\nFREE COURSE\\n\\nWeb Dev Using Flask and Python\\n\\nThis course will teach you everything you need to know about web development using Flask. It will lead you through each and every concept of Flask and will give you a good initial start.\\n\\nStart Watching\\n\\nFREE COURSE\\n\\nCoding Discussion With Harry\\n\\nInterested in general technology (coding) topics? If yes, then you must checkout this series, here you'll get tonnes of videos regarding most asked questions and other general questions.\\n\\nStart Watching\\n\\nFREE COURSE\\n\\nLearn In One Video\\n\\nDon't have much time to watch the whole course's playlist? Don't worry, we've got you covered. This series contains one-shot videos of popular technologies, search for your required stack, and you're ready to get into it.\\n\\nStart Watching\\n\\nFREE COURSE\"),\n",
       " Document(metadata={'source': AnyUrl('https://www.codewithharry.com/videos/')}, page_content=\"Start Watching\\n\\nFREE COURSE\\n\\nC++ Tutorials For Beginners\\n\\nThis course contains all the concepts and exercises of the C++ language. If you're a mere beginner, you can start your coding journey with this course and ace your exams.\\n\\nStart Watching\\n\\nFREE COURSE\\n\\nPython Django Tutorials For Beginners\\n\\nDjango is a Python-based free and open-source web framework. If you already know Python and want to try web development, you can go with Django.\\n\\nStart Watching\\n\\nFREE COURSE\\n\\nWeb Dev Tutorials For Beginners\\n\\nThis is one of my favorite courses. In this series, you'll learn about HTML, CSS, JavaScript, and everything needed to be a job-ready web developer. Just hop on, man.\\n\\nStart Watching\\n\\nFREE COURSE\\n\\nPython Tutorials For Absolute Beginners\\n\\nThis is one of the most-watched courses on this channel. If you want to create projects as early as possible, then this course is for you. You'll get dozen of projects in this course.\\n\\nStart Watching\\n\\nFREE COURSE\\n\\nAndroid Development Tutorials\\n\\nAndroid Development is one of the booming career options nowadays, and many people are learning Android because it feels so good to create own app. You can also grab this opportunity by enrolling in this course.\\n\\nStart Watching\\n\\nFREE COURSE\\n\\nJava Tutorials For Beginners\\n\\nIf you don't know programming and want to start your career by learning Java as your first language, you can start with this course as it is for absolute beginners.\\n\\nStart Watching\\n\\nFREE COURSE\\n\\nData Structures and Algorithms Course\\n\\nData Structure and Algorithm is one of the most crucial things to learn. This course will give you a complete understanding of Data Structure and its implementation.\\n\\nStart Watching\\n\\nFREE COURSE\\n\\nC Language Tutorials For Beginners\\n\\nEven if you don't know the ABC of coding, start this course, and I can assure you that you'll be an intermediate-level coder after completion. Get started with C language.\\n\\nStart Watching\\n\\nFREE COURSE\\n\\nJavaScript Tutorials For Beginners\"),\n",
       " Document(metadata={'source': AnyUrl('https://www.codewithharry.com/videos/')}, page_content='Start Watching\\n\\nFREE COURSE\\n\\nJavaScript Tutorials For Beginners\\n\\nJavaScript is an essential element for the web developers. If you want to take your web development journey one step ahead then you enroll in this course.\\n\\nStart Watching\\n\\nFREE COURSE\\n\\nPHP Tutorials For Beginners\\n\\nPHP is a general-purpose scripting language geared towards web development. This course will give you a complete and proper understanding of PHP concepts.\\n\\nStart Watching\\n\\nFREE COURSE\\n\\nGit and GitHub Tutorials For Beginners\\n\\nIf you\\'re serious about coding and want to make a career out of it, then do learn Git and GitHub because it is something that you\\'ll use at every phase of your job.\\n\\nStart Watching\\n\\nFREE COURSE\\n\\nIntermediate Python Tutorials\\n\\nWanna take your Python skills to the next level? This course is what you all need. It contains all the advanced concepts of the Python language. What??? Just tap on the \"Start Watching\" button to get started.\\n\\nStart Watching\\n\\nFREE COURSE\\n\\nData Science and Big Data Tutorials\\n\\nThis course will give you a gist of Data Science and Big Data. I\\'m sure you must have heard about Data Scientist. This series contains the content to become one of them.\\n\\nStart Watching\\n\\nFREE COURSE\\n\\nML Tutorials For Beginners\\n\\nMachine Learning is one of the exciting topics nowadays. And if you want to get a glimpse of ML, don\\'t think twice. Just get started with this course.\\n\\nStart Watching\\n\\nFREE COURSE\\n\\nComplete Git Tutorials For Beginners\\n\\nIf you\\'re serious about coding and want to make a career out of it, then do learn Git and GitHub. This is the updated course of Git and GitHub For Beginners.\\n\\nStart Watching\\n\\nFREE COURSE\\n\\nPython GUI Tkinter Tutorials\\n\\nConsole output is annoying sometimes, isn\\'t it? That\\'s why to get rid of the console, you can create GUI programs, and this is the course for you to start with. \"Spill some colors in your program.\"\\n\\nStart Watching\\n\\nFREE COURSE\\n\\nPython Practice Program Tuts'),\n",
       " Document(metadata={'source': AnyUrl('https://www.codewithharry.com/videos/')}, page_content=\"Start Watching\\n\\nFREE COURSE\\n\\nPython Practice Program Tuts\\n\\nThis series contains some of the exciting Python programs that one must try. You'll also get a proper explanation of the code. So, get started with this course to practice Python.\\n\\nStart Watching\\n\\nFREE COURSE\\n\\nRealtime PHP Chatroom Tutorials\\n\\nThis is one of the best applications of PHP and Jquery. In this series, we've developed a real-time chatroom, so if you're someone who likes project-based learning, this is for you.\\n\\nStart Watching\\n\\nCodeWithHarryManaged by CWH Solutions\")]"
      ]
     },
     "execution_count": 13,
     "metadata": {},
     "output_type": "execute_result"
    }
   ],
   "source": [
    "prod_loader=UnstructuredURLLoader(urls=result.product_service_urls)\n",
    "Prod_data=prod_loader.load()\n",
    "\n",
    "from langchain_text_splitters import RecursiveCharacterTextSplitter\n",
    "spitter=RecursiveCharacterTextSplitter(chunk_size=2000, chunk_overlap=100)\n",
    "Final_Prod_data=spitter.split_documents(Prod_data)\n",
    "Final_Prod_data\n"
   ]
  },
  {
   "cell_type": "code",
   "execution_count": 14,
   "metadata": {},
   "outputs": [],
   "source": [
    "# Convert product_info to Documents\n",
    "def convert_product_info_to_documents(product_info: List[dict]) -> List[Document]:\n",
    "    documents = []\n",
    "    for produt in product_info:\n",
    "        # Convert product dict to string for embedding\n",
    "        product_str = produt\n",
    "        doc = Document(\n",
    "            page_content=str(product_str),\n",
    "\n",
    "        )\n",
    "        documents.append(doc)\n",
    "    return documents"
   ]
  },
  {
   "cell_type": "code",
   "execution_count": null,
   "metadata": {},
   "outputs": [],
   "source": [
    "from functools import reduce\n",
    "def merge_list_products(lp1, lp2):\n",
    "\treturn List_product(products=lp1.products + lp2.products)\n",
    "\n",
    "class ProductService(BaseModel):\n",
    "    name : str = Field(None ,description=\"name of the product or service\")\n",
    "    description : str = Field(None ,description=\"description of the product or service\")\n",
    "    price : float = Field(None, description=\"price of the product or service\")\n",
    "    specifications : str = Field(None ,description=\"specifications of the product or service\")\n",
    "    features : str = Field(None, description=\"features of the product or service\")\n",
    "    \n",
    "class List_product(BaseModel):\n",
    "    products: List[ProductService]\n",
    "prod_formate_llm=llm.with_structured_output(List_product)\n",
    "\n",
    "product_info=[]\n",
    "for docs in Final_Prod_data[:3]:\n",
    "    product_info.append(prod_formate_llm.invoke(docs.page_content))\n",
    "\n",
    "result=reduce(merge_list_products, product_info)\n",
    "\n"
   ]
  },
  {
   "cell_type": "code",
   "execution_count": null,
   "metadata": {},
   "outputs": [
    {
     "data": {
      "text/plain": [
       "[ProductService(name='Handwritten C Notes', description=None, price=99.0, specifications='covering fundamentals, loops, arrays, and more.', features=None),\n",
       " ProductService(name='Handwritten C++ Notes', description=None, price=99.0, specifications='covering classes, inheritance, and polymorphism.', features=None),\n",
       " ProductService(name='Handwritten HTML Notes', description=None, price=99.0, specifications='covering tags, elements, and attributes.', features=None),\n",
       " ProductService(name='CSS Ebook', description=None, price=99.0, specifications='flexbox, grid, and animations', features=None),\n",
       " ProductService(name='Handwritten JavaScript Notes', description=None, price=99.0, specifications='covering variables, functions, loops, and ES6+ features.', features=None),\n",
       " ProductService(name='Custom Error Solving!', description=None, price=99999.0, specifications='We will solve your custom errors and provide you with a summary of the solution.', features=None),\n",
       " ProductService(name='Sigma Web Development Course', description=None, price=6000.0, specifications='You will get a certificate after completion.', features=None),\n",
       " ProductService(name='Ultimate JavaScript Course', description=None, price=0.0, specifications='premium curriculum that covers everything from basics to advance. On top of that, you will get my handwritten notes of JS for completely free.', features=None),\n",
       " ProductService(name='Sanity.io Tutorials in Hindi', description=None, price=0.0, specifications='This course will not only cover Sanity from starting to the end, but it has projects for hands-on experience.', features=None),\n",
       " ProductService(name='Strapi Tutorial For Beginners', description=None, price=0.0, specifications='It is an open-source, Headless CMS that saves lot of time for developers by giving them freedom to use their favorite tools and frameworks.', features=None),\n",
       " ProductService(name='Python Tutorials - 100 Days of Code', description=None, price=0.0, specifications=\"Surprisingly, it is equally easy to learn and master Python. Let's commit our 100 days of code to python!\", features=None),\n",
       " ProductService(name='Tailwind Course In Hindi', description=None, price=0.0, specifications='Learn Tailwind CSS from scratch for free!', features=None),\n",
       " ProductService(name='React Js Tutorials For Beginners', description=None, price=0.0, specifications='This series will cover React from starting to the end. We will learn react from the ground up!', features=None),\n",
       " ProductService(name='Next.js Tutorials For Beginners', description=None, price=0.0, specifications='Learn Next.js from Scratch.', features=None),\n",
       " ProductService(name='General Python Errors', description=None, price=0.0, specifications=None, features=None)]"
      ]
     },
     "execution_count": 106,
     "metadata": {},
     "output_type": "execute_result"
    }
   ],
   "source": [
    "#if you want to update the product or service information do it here , you also delete from the list \n",
    "result.products"
   ]
  },
  {
   "cell_type": "code",
   "execution_count": 104,
   "metadata": {},
   "outputs": [],
   "source": [
    "\n",
    "product_docs = convert_product_info_to_documents(result.products)"
   ]
  },
  {
   "cell_type": "code",
   "execution_count": 102,
   "metadata": {},
   "outputs": [
    {
     "data": {
      "text/plain": [
       "[Document(metadata={}, page_content=\"name='Handwritten C Notes' description=None price=99.0 specifications='covering fundamentals, loops, arrays, and more.' features=None\"),\n",
       " Document(metadata={}, page_content=\"name='Handwritten C++ Notes' description=None price=99.0 specifications='covering classes, inheritance, and polymorphism.' features=None\"),\n",
       " Document(metadata={}, page_content=\"name='Handwritten HTML Notes' description=None price=99.0 specifications='covering tags, elements, and attributes.' features=None\"),\n",
       " Document(metadata={}, page_content=\"name='CSS Ebook' description=None price=99.0 specifications='flexbox, grid, and animations' features=None\"),\n",
       " Document(metadata={}, page_content=\"name='Handwritten JavaScript Notes' description=None price=99.0 specifications='covering variables, functions, loops, and ES6+ features.' features=None\"),\n",
       " Document(metadata={}, page_content=\"name='Custom Error Solving!' description=None price=99999.0 specifications='We will solve your custom errors and provide you with a summary of the solution.' features=None\"),\n",
       " Document(metadata={}, page_content=\"name='Sigma Web Development Course' description=None price=6000.0 specifications='You will get a certificate after completion.' features=None\"),\n",
       " Document(metadata={}, page_content=\"name='Ultimate JavaScript Course' description=None price=0.0 specifications='premium curriculum that covers everything from basics to advance. On top of that, you will get my handwritten notes of JS for completely free.' features=None\"),\n",
       " Document(metadata={}, page_content=\"name='Sanity.io Tutorials in Hindi' description=None price=0.0 specifications='This course will not only cover Sanity from starting to the end, but it has projects for hands-on experience.' features=None\"),\n",
       " Document(metadata={}, page_content=\"name='Strapi Tutorial For Beginners' description=None price=0.0 specifications='It is an open-source, Headless CMS that saves lot of time for developers by giving them freedom to use their favorite tools and frameworks.' features=None\"),\n",
       " Document(metadata={}, page_content='name=\\'Python Tutorials - 100 Days of Code\\' description=None price=0.0 specifications=\"Surprisingly, it is equally easy to learn and master Python. Let\\'s commit our 100 days of code to python!\" features=None'),\n",
       " Document(metadata={}, page_content=\"name='Tailwind Course In Hindi' description=None price=0.0 specifications='Learn Tailwind CSS from scratch for free!' features=None\"),\n",
       " Document(metadata={}, page_content=\"name='React Js Tutorials For Beginners' description=None price=0.0 specifications='This series will cover React from starting to the end. We will learn react from the ground up!' features=None\"),\n",
       " Document(metadata={}, page_content=\"name='Next.js Tutorials For Beginners' description=None price=0.0 specifications='Learn Next.js from Scratch.' features=None\"),\n",
       " Document(metadata={}, page_content=\"name='General Python Errors' description=None price=0.0 specifications=None features=None\")]"
      ]
     },
     "execution_count": 102,
     "metadata": {},
     "output_type": "execute_result"
    }
   ],
   "source": [
    "product_docs"
   ]
  },
  {
   "cell_type": "code",
   "execution_count": 16,
   "metadata": {},
   "outputs": [],
   "source": [
    "product_vectorstore = FAISS.from_documents(\n",
    "    documents=product_docs,\n",
    "    embedding=embeddings\n",
    ")\n",
    "\n",
    "# Save the vector store\n",
    "product_vectorstore.save_local(\"vectors/product_info_index\")\n"
   ]
  },
  {
   "cell_type": "code",
   "execution_count": 17,
   "metadata": {},
   "outputs": [],
   "source": [
    "product_vectorstore = FAISS.from_documents(\n",
    "    documents=Final_Desc_data,\n",
    "    embedding=embeddings\n",
    ")\n",
    "product_vectorstore.save_local(\"vectors/description_index\")\n"
   ]
  },
  {
   "cell_type": "code",
   "execution_count": 18,
   "metadata": {},
   "outputs": [],
   "source": [
    "prod_vector=FAISS.load_local(\"vectors/product_info_index\", embeddings,allow_dangerous_deserialization=True)\n",
    "product_retreiver=prod_vector.as_retriever()"
   ]
  },
  {
   "cell_type": "code",
   "execution_count": 19,
   "metadata": {},
   "outputs": [],
   "source": [
    "desc_vector=FAISS.load_local(\"vectors/description_index\", embeddings,allow_dangerous_deserialization=True)\n",
    "desc_retreiver=desc_vector.as_retriever()"
   ]
  },
  {
   "cell_type": "code",
   "execution_count": 30,
   "metadata": {},
   "outputs": [
    {
     "data": {
      "text/plain": [
       "[Document(id='3f4ff364-0803-496f-8d8f-9e4410d94168', metadata={}, page_content=\"name='CodeWithHarry' description='CodeWithHarry Managed by CWH Solutions' price=0.0 specifications='Tutorials, Python Tutorial, C Tutorial, C++ Tutorial, Java Tutorial, HTML Tutorial, CSS Tutorial, JavaScript Tutorial, PHP Tutorial, React JS Tutorial' features='HTML, CSS, JS, C, C++, JAVA, PYTHON, PHP, REACT JS'\"),\n",
       " Document(id='99071055-4c81-4fa1-b10c-9e7e172e8211', metadata={}, page_content=\"name='Ultimate JavaScript Course' description='This latest JavaScript course comes with premium curriculum that covers everything from basics to advance. On top of that, you will get my handwritten notes of JS for completely free. What are you waiting for? Just Enroll Buddy' price=0.0 specifications='basics to advance' features='premium curriculum, handwritten notes'\"),\n",
       " Document(id='636abeb0-5865-4507-a904-61258ed1a1d7', metadata={}, page_content=\"name='Handwritten C Notes' description='Master C programming with these handwritten notes, covering fundamentals, loops, arrays, and more.' price=99.0 specifications='Handwritten Notes' features='covering fundamentals, loops, arrays, and more'\")]"
      ]
     },
     "execution_count": 30,
     "metadata": {},
     "output_type": "execute_result"
    }
   ],
   "source": [
    "product_retreiver.invoke(\"hi\")"
   ]
  },
  {
   "cell_type": "code",
   "execution_count": 21,
   "metadata": {},
   "outputs": [
    {
     "data": {
      "text/plain": [
       "[Document(id='eeae9155-554e-473e-a0d8-b36a00a38287', metadata={'source': AnyUrl('https://www.codewithharry.com/contact/')}, page_content='</> CodeWithHarry\\n\\nMenu\\n\\nHome\\n\\nCourses\\n\\nTutorial\\n\\nBlog\\n\\nNotes\\n\\nContact\\n\\nMy Gear\\n\\nWork With Us\\n\\nHTML\\n\\nCSS\\n\\nJS\\n\\nC\\n\\nC++\\n\\nJAVA\\n\\nPYTHON\\n\\nPHP\\n\\nREACT JS\\n\\nHome\\n\\nCourses\\n\\nTutorial\\n\\nHTML\\n\\nCSS\\n\\nJS\\n\\nC\\n\\nC++\\n\\nJAVA\\n\\nPYTHON\\n\\nPHP\\n\\nREACT JS\\n\\nBlog\\n\\nNotes\\n\\nContact\\n\\nMy Gear\\n\\nWork With Us\\n\\nFeel free to contact me!\\n\\nCodeWithHarryManaged by CWH Solutions'),\n",
       " Document(id='991e8d54-eecc-4ced-9f31-d6318f2e25d1', metadata={'source': AnyUrl('https://www.codewithharry.com/')}, page_content='Mohit KumarWeb Developer\\n\\nFor everyone who wants to level up their #Coding and #Dev skills - seriously, this channel is for you! Both basic and advanced stacks are covered on this channel, and one can learn according to his skill levels. And the icing on the cake is, everything is available for free.\\n\\nRakesh ShettyWeb Developer\\n\\nCodeWithHarryManaged by CWH Solutions'),\n",
       " Document(id='bec6c9b8-8cab-474c-ad01-c27cf7f71e20', metadata={'source': AnyUrl('https://www.codewithharry.com/')}, page_content=\"Start Watching\\n\\nFREE COURSE\\n\\nUltimate JavaScript Course\\n\\nThis latest JavaScript course comes with premium curriculum that covers everything from basics to advance. On top of that, you will get my handwritten notes of JS for completely free. What are you waiting for? Just Enroll Buddy\\n\\nStart Watching\\n\\nFREE COURSE\\n\\nReact JS Tutorials For Beginners\\n\\nReact is a free and open-source front-end JavaScript library. This series will cover React from starting to the end. We will learn react from the ground up!\\n\\nStart Watching\\n\\nTestimonials\\n\\nI don't have words to thank this man, I'm really grateful to have this channel and website in my daily routine. If you're a mere beginner, then you can trust this guy and can put your time into his content. I can assure you that it'll be worth it.\\n\\nMohit KumarWeb Developer\"),\n",
       " Document(id='c9728ed3-0ec4-4dd6-9796-776488bd52d9', metadata={'source': AnyUrl('https://www.codewithharry.com/blog/')}, page_content='</> CodeWithHarry\\n\\nMenu\\n\\nHome\\n\\nCourses\\n\\nTutorial\\n\\nBlog\\n\\nNotes\\n\\nContact\\n\\nMy Gear\\n\\nWork With Us\\n\\nHTML\\n\\nCSS\\n\\nJS\\n\\nC\\n\\nC++\\n\\nJAVA\\n\\nPYTHON\\n\\nPHP\\n\\nREACT JS\\n\\nHome\\n\\nCourses\\n\\nTutorial\\n\\nHTML\\n\\nCSS\\n\\nJS\\n\\nC\\n\\nC++\\n\\nJAVA\\n\\nPYTHON\\n\\nPHP\\n\\nREACT JS\\n\\nBlog\\n\\nNotes\\n\\nContact\\n\\nMy Gear\\n\\nWork With Us\\n\\nCodeWithHarryManaged by CWH Solutions')]"
      ]
     },
     "execution_count": 21,
     "metadata": {},
     "output_type": "execute_result"
    }
   ],
   "source": [
    "desc_retreiver.invoke(\"hi\")"
   ]
  },
  {
   "cell_type": "code",
   "execution_count": null,
   "metadata": {},
   "outputs": [],
   "source": [
    "class SelectRetriverRatio(BaseModel):\n",
    "    \"\"\"Analyze the user query and return a ratio based on its nature. \n",
    "    If the query is more product/service-related, the ratio is closer to 1. \n",
    "    If it is more descriptive/informational, the ratio is closer to 0.\"\"\"\n",
    "    \n",
    "    ratio: float = Field(None description=\"Ratio indicating the strength of product/service (1) vs. description (0)\")\n"
   ]
  },
  {
   "cell_type": "code",
   "execution_count": 24,
   "metadata": {},
   "outputs": [],
   "source": [
    "retriever_selecter=llm.with_structured_output(SelectRetriverRatio)"
   ]
  },
  {
   "cell_type": "code",
   "execution_count": null,
   "metadata": {},
   "outputs": [
    {
     "data": {
      "text/plain": [
       "SelectRetriverRatio(ratio=0.0)"
      ]
     },
     "execution_count": 32,
     "metadata": {},
     "output_type": "execute_result"
    }
   ],
   "source": []
  },
  {
   "cell_type": "code",
   "execution_count": null,
   "metadata": {},
   "outputs": [],
   "source": [
    "#When the user query ask the question about the in chatbot\n",
    "# User side \n",
    "from langchain_core.prompts import ChatPromptTemplate\n"
   ]
  },
  {
   "cell_type": "code",
   "execution_count": 66,
   "metadata": {},
   "outputs": [
    {
     "name": "stdout",
     "output_type": "stream",
     "text": [
      "0.0\n",
      "[Document(id='c8e9261c-c3e9-4f3d-8fed-59ac374eab6d', metadata={'source': AnyUrl('https://www.codewithharry.com/notes/')}, page_content='</> CodeWithHarry\\n\\nMenu\\n\\nHome\\n\\nCourses\\n\\nTutorial\\n\\nBlog\\n\\nNotes\\n\\nContact\\n\\nMy Gear\\n\\nWork With Us\\n\\nHTML\\n\\nCSS\\n\\nJS\\n\\nC\\n\\nC++\\n\\nJAVA\\n\\nPYTHON\\n\\nPHP\\n\\nREACT JS\\n\\nHome\\n\\nCourses\\n\\nTutorial\\n\\nHTML\\n\\nCSS\\n\\nJS\\n\\nC\\n\\nC++\\n\\nJAVA\\n\\nPYTHON\\n\\nPHP\\n\\nREACT JS\\n\\nBlog\\n\\nNotes\\n\\nContact\\n\\nMy Gear\\n\\nWork With Us\\n\\nDownload Notes by CodeWithHarry\\n\\nPython Notes\\n\\nDownload Notes Here\\n\\nC Notes\\n\\nDownload Notes Here\\n\\nAndroid Notes\\n\\nDownload Notes Here\\n\\nJava Notes\\n\\nDownload Notes Here\\n\\nHTML Notes\\n\\nDownload Notes Here\\n\\nCSS Notes\\n\\nDownload Notes Here\\n\\nDSA Notes\\n\\nNotes in progress\\n\\nJavascript Notes\\n\\nDownload Notes Here\\n\\nDownload Cheatsheets by CodeWithHarry\\n\\nPython CheatSheet\\n\\nDownload Cheatsheet Here\\n\\nC CheatSheet\\n\\nDownload CheatSheet Here\\n\\nC++ Cheatsheet\\n\\nDownload Cheatsheet Here\\n\\nJava CheatSheet\\n\\nDownload CheatSheet Here\\n\\nHTML Cheatsheet\\n\\nDownload CheatSheet Here\\n\\nCSS Cheatsheet\\n\\nDownload Cheatsheet Here\\n\\nFlask Cheatsheet\\n\\nDownload Cheatsheet Here\\n\\nJavascript Cheatsheet\\n\\nDownload Cheatsheet Here\\n\\nPHP Cheatsheet\\n\\nDownload Cheatsheet Here'), Document(id='716d40db-c164-4413-ba03-85a8105f49b2', metadata={'source': AnyUrl('https://www.codewithharry.com/notes/')}, page_content='Javascript Cheatsheet\\n\\nDownload Cheatsheet Here\\n\\nPHP Cheatsheet\\n\\nDownload Cheatsheet Here\\n\\nMySQL Cheatsheet\\n\\nDownload Cheatsheet Here\\n\\nDjango Cheatsheet\\n\\nDownload Cheatsheet Here\\n\\nDownload Handbooks by CodeWithHarry\\n\\nPython Handbook\\n\\nDownload Handbook Here\\n\\nC Handbook\\n\\nDownload Handbook Here\\n\\nHTML Handbook\\n\\nDownload Handbook Here\\n\\nCodeWithHarryManaged by CWH Solutions'), Document(id='8b51286a-8f4f-43d5-8de3-587f1c423312', metadata={'source': AnyUrl('https://www.codewithharry.com/')}, page_content=\"</> CodeWithHarry\\n\\nMenu\\n\\nHome\\n\\nCourses\\n\\nTutorial\\n\\nBlog\\n\\nNotes\\n\\nContact\\n\\nMy Gear\\n\\nWork With Us\\n\\nHTML\\n\\nCSS\\n\\nJS\\n\\nC\\n\\nC++\\n\\nJAVA\\n\\nPYTHON\\n\\nPHP\\n\\nREACT JS\\n\\nHome\\n\\nCourses\\n\\nTutorial\\n\\nHTML\\n\\nCSS\\n\\nJS\\n\\nC\\n\\nC++\\n\\nJAVA\\n\\nPYTHON\\n\\nPHP\\n\\nREACT JS\\n\\nBlog\\n\\nNotes\\n\\nContact\\n\\nMy Gear\\n\\nWork With Us\\n\\nWelcome to\\n\\nLearn\\n\\nConfused on which course to take? I have got you covered. Browse courses and find out the best course for you. Its free! Code With Harry is my attempt to teach basics and those coding techniques to people in short time which took me ages to learn.\\n\\nRecommended Courses\\n\\nFREE COURSE\\n\\nPython Tutorials - 100 Days of Code\\n\\nPython is one of the most demanded programming languages in the job market. Surprisingly, it is equally easy to learn and master Python. Let's commit our 100 days of code to python!\\n\\nStart Watching\\n\\nFREE COURSE\\n\\nUltimate JavaScript Course\"), Document(id='eeae9155-554e-473e-a0d8-b36a00a38287', metadata={'source': AnyUrl('https://www.codewithharry.com/contact/')}, page_content='</> CodeWithHarry\\n\\nMenu\\n\\nHome\\n\\nCourses\\n\\nTutorial\\n\\nBlog\\n\\nNotes\\n\\nContact\\n\\nMy Gear\\n\\nWork With Us\\n\\nHTML\\n\\nCSS\\n\\nJS\\n\\nC\\n\\nC++\\n\\nJAVA\\n\\nPYTHON\\n\\nPHP\\n\\nREACT JS\\n\\nHome\\n\\nCourses\\n\\nTutorial\\n\\nHTML\\n\\nCSS\\n\\nJS\\n\\nC\\n\\nC++\\n\\nJAVA\\n\\nPYTHON\\n\\nPHP\\n\\nREACT JS\\n\\nBlog\\n\\nNotes\\n\\nContact\\n\\nMy Gear\\n\\nWork With Us\\n\\nFeel free to contact me!\\n\\nCodeWithHarryManaged by CWH Solutions')]\n"
     ]
    }
   ],
   "source": [
    "def retrieve_documents_based_on_ratio(ratio: float, Query: str) -> List[Document]:\n",
    "\n",
    "\n",
    "    num_desc_docs = int((1 - ratio) * 10)\n",
    "    num_prod_docs = 10 - num_desc_docs\n",
    "\n",
    "    desc_docs = desc_retreiver.invoke(Query,)[:num_desc_docs]\n",
    "    prod_docs = product_retreiver.invoke(Query)[:num_prod_docs]\n",
    "\n",
    "    return desc_docs + prod_docs\n",
    "\n",
    "query=\"do you have python notes \" \n",
    "ratio=retriever_selecter.invoke(query).ratio\n",
    "print(ratio)\n",
    "documents = retrieve_documents_based_on_ratio(ratio,query)\n",
    "print(documents)\n"
   ]
  },
  {
   "cell_type": "code",
   "execution_count": null,
   "metadata": {},
   "outputs": [],
   "source": [
    "prompt_template=ChatPromptTemplate.from_messages(\n",
    "\"Act as Customer Support Manager \\\n",
    "Your task is to respond to the following customer query: {query} \\\n",
    " Provide the most relevant information based on the query and keep the massge on point. \\\n",
    " You have access to the following documents: {documents}\"\n",
    "\n",
    ")"
   ]
  },
  {
   "cell_type": "code",
   "execution_count": 72,
   "metadata": {},
   "outputs": [],
   "source": [
    "chain =prompt_template | llm \n",
    "respone_massage =chain.invoke({\"query\":query,\"documents\":documents})\n",
    "final_result=respone_massage.content"
   ]
  },
  {
   "cell_type": "code",
   "execution_count": null,
   "metadata": {},
   "outputs": [],
   "source": []
  },
  {
   "cell_type": "code",
   "execution_count": null,
   "metadata": {},
   "outputs": [],
   "source": []
  },
  {
   "cell_type": "code",
   "execution_count": null,
   "metadata": {},
   "outputs": [],
   "source": []
  },
  {
   "cell_type": "code",
   "execution_count": null,
   "metadata": {},
   "outputs": [],
   "source": []
  }
 ],
 "metadata": {
  "kernelspec": {
   "display_name": "base",
   "language": "python",
   "name": "python3"
  },
  "language_info": {
   "codemirror_mode": {
    "name": "ipython",
    "version": 3
   },
   "file_extension": ".py",
   "mimetype": "text/x-python",
   "name": "python",
   "nbconvert_exporter": "python",
   "pygments_lexer": "ipython3",
   "version": "3.12.3"
  }
 },
 "nbformat": 4,
 "nbformat_minor": 2
}
